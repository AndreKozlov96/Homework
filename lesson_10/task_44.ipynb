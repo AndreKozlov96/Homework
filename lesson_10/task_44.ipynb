{
  "nbformat": 4,
  "nbformat_minor": 0,
  "metadata": {
    "colab": {
      "provenance": []
    },
    "kernelspec": {
      "name": "python3",
      "display_name": "Python 3"
    },
    "language_info": {
      "name": "python"
    }
  },
  "cells": [
    {
      "cell_type": "code",
      "execution_count": 2,
      "metadata": {
        "colab": {
          "base_uri": "https://localhost:8080/"
        },
        "id": "oIF-EJA0_Tu-",
        "outputId": "fa00f4a3-a534-4442-e9a1-e3228938dbe9"
      },
      "outputs": [
        {
          "output_type": "execute_result",
          "data": {
            "text/plain": [
              "<bound method NDFrame.head of    whoAmi\n",
              "0   human\n",
              "1   robot\n",
              "2   robot\n",
              "3   human\n",
              "4   robot\n",
              "5   human\n",
              "6   human\n",
              "7   human\n",
              "8   human\n",
              "9   robot\n",
              "10  robot\n",
              "11  robot\n",
              "12  robot\n",
              "13  human\n",
              "14  human\n",
              "15  robot\n",
              "16  human\n",
              "17  robot\n",
              "18  human\n",
              "19  robot>"
            ]
          },
          "metadata": {},
          "execution_count": 2
        }
      ],
      "source": [
        "import pandas as pd\n",
        "\n",
        "import random\n",
        "\n",
        "lst = ['robot'] * 10\n",
        "lst += ['human'] * 10\n",
        "random.shuffle(lst)\n",
        "data = pd.DataFrame({'whoAmi':lst})\n",
        "data.head"
      ]
    },
    {
      "cell_type": "code",
      "source": [
        "data.loc[data['whoAmi'] == 'human', ('Humans', 'Robots')] = ('1', '0')\n",
        "data.loc[data['whoAmi'] == 'robot', ('Robots', 'Humans')] = ('1', '0')"
      ],
      "metadata": {
        "id": "2zh4ob5YBSTs"
      },
      "execution_count": 13,
      "outputs": []
    },
    {
      "cell_type": "code",
      "source": [
        "data.head"
      ],
      "metadata": {
        "colab": {
          "base_uri": "https://localhost:8080/"
        },
        "id": "H00k6qdbC_Zi",
        "outputId": "62e11adb-69b9-4b3b-df79-7a18961671f1"
      },
      "execution_count": 14,
      "outputs": [
        {
          "output_type": "execute_result",
          "data": {
            "text/plain": [
              "<bound method NDFrame.head of    whoAmi Humans Robots\n",
              "0   human      1      0\n",
              "1   robot      0      1\n",
              "2   robot      0      1\n",
              "3   human      1      0\n",
              "4   robot      0      1\n",
              "5   human      1      0\n",
              "6   human      1      0\n",
              "7   human      1      0\n",
              "8   human      1      0\n",
              "9   robot      0      1\n",
              "10  robot      0      1\n",
              "11  robot      0      1\n",
              "12  robot      0      1\n",
              "13  human      1      0\n",
              "14  human      1      0\n",
              "15  robot      0      1\n",
              "16  human      1      0\n",
              "17  robot      0      1\n",
              "18  human      1      0\n",
              "19  robot      0      1>"
            ]
          },
          "metadata": {},
          "execution_count": 14
        }
      ]
    },
    {
      "cell_type": "code",
      "source": [],
      "metadata": {
        "id": "z4fbwEbPDEIW"
      },
      "execution_count": null,
      "outputs": []
    }
  ]
}